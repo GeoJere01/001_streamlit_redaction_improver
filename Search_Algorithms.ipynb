{
  "nbformat": 4,
  "nbformat_minor": 0,
  "metadata": {
    "colab": {
      "provenance": [],
      "include_colab_link": true
    },
    "kernelspec": {
      "name": "python3",
      "display_name": "Python 3"
    },
    "language_info": {
      "name": "python"
    }
  },
  "cells": [
    {
      "cell_type": "markdown",
      "metadata": {
        "id": "view-in-github",
        "colab_type": "text"
      },
      "source": [
        "<a href=\"https://colab.research.google.com/github/GeoJere01/001_streamlit_redaction_improver/blob/main/Search_Algorithms.ipynb\" target=\"_parent\"><img src=\"https://colab.research.google.com/assets/colab-badge.svg\" alt=\"Open In Colab\"/></a>"
      ]
    },
    {
      "cell_type": "code",
      "execution_count": 1,
      "metadata": {
        "id": "qH6pCLinMuG-"
      },
      "outputs": [],
      "source": [
        "# First networkx library is imported\n",
        "import networkx as nx"
      ]
    },
    {
      "cell_type": "code",
      "source": [
        "#create graph\n",
        "G = nx.Graph()\n",
        "#add edges\n",
        "G.add_edge(0, 2)\n",
        "G.add_edge(1, 2)\n",
        "G.add_edge(1, 3)\n",
        "G.add_edge(5, 3)\n",
        "G.add_edge(3, 4)\n",
        "G.add_edge(1, 0)"
      ],
      "metadata": {
        "id": "35DW9efrM29G"
      },
      "execution_count": 2,
      "outputs": []
    },
    {
      "cell_type": "code",
      "source": [
        "#use library function to visualise network\n",
        "nx.draw_networkx(G)"
      ],
      "metadata": {
        "colab": {
          "base_uri": "https://localhost:8080/",
          "height": 406
        },
        "id": "pG2ilWYRM6PV",
        "outputId": "e0a65c22-56e7-4556-b8b9-a155227ac933"
      },
      "execution_count": 8,
      "outputs": [
        {
          "output_type": "display_data",
          "data": {
            "text/plain": [
              "<Figure size 640x480 with 1 Axes>"
            ],
            "image/png": "[encoded data removed]"
          },
          "metadata": {}
        }
      ]
    },
    {
      "cell_type": "markdown",
      "source": [
        "Some useful methods:\n",
        "\n",
        "1.   To get nodes list (where G = nx.Graph()): **G.nodes()**\n",
        "2.   To remove a node of a graph: **G.remove_node(3)**\n",
        "3.   To find the degree of a node: **G.degree(3)**\n",
        "4.   To get a list of edges: **G.edges()**\n",
        "5.   To get the neoighbours of a node: **G.neighbours()**\n",
        "\n",
        "Consult the documentation for more examples: https://networkx.org/documentation/stable/tutorial.html\n",
        "\n"
      ],
      "metadata": {
        "id": "H6gu37ktM9Zt"
      }
    },
    {
      "cell_type": "code",
      "source": [
        "print(\"Total number of nodes: \", int(G.number_of_nodes()))\n",
        "print(\"Total number of edges: \", int(G.number_of_edges()))\n",
        "print(\"List of all nodes: \", list(G.nodes()))\n",
        "print(\"List of all edges: \", list(G.edges(data = True)))\n",
        "print(\"Degree for all nodes: \", dict(G.degree()))\n",
        "\n",
        "print(\"Total number of self-loops: \", int(nx.number_of_selfloops(G)))\n",
        "print(\"List of all nodes with self-loops: \",\n",
        "             list(nx.nodes_with_selfloops(G)))\n",
        "\n",
        "print(\"List of all nodes we can go to in a single step from node 2: \",\n",
        "                                                 list(G.neighbors(2)))"
      ],
      "metadata": {
        "colab": {
          "base_uri": "https://localhost:8080/"
        },
        "id": "Z6UjHVFRM62N",
        "outputId": "b5168d3e-ccb9-435f-a4f3-f89f59832beb"
      },
      "execution_count": null,
      "outputs": [
        {
          "output_type": "stream",
          "name": "stdout",
          "text": [
            "Total number of nodes:  6\n",
            "Total number of edges:  6\n",
            "List of all nodes:  [0, 2, 1, 3, 5, 4]\n",
            "List of all edges:  [(0, 2, {}), (0, 1, {}), (2, 1, {}), (1, 3, {}), (3, 5, {}), (3, 4, {})]\n",
            "Degree for all nodes:  {0: 2, 2: 2, 1: 3, 3: 3, 5: 1, 4: 1}\n",
            "Total number of self-loops:  0\n",
            "List of all nodes with self-loops:  []\n",
            "List of all nodes we can go to in a single step from node 2:  [0, 1]\n"
          ]
        }
      ]
    },
    {
      "cell_type": "code",
      "source": [
        "#attach weights to the graph\n",
        "weights=[5,4,6,7,8,9]\n",
        "node_names=['Blantyre','Lilongwe','Nsanje','Kasungu','Mzuzu','Karonga']\n",
        "regions=['South','Central','South','Central','North','North']\n",
        "G.edges()"
      ],
      "metadata": {
        "colab": {
          "base_uri": "https://localhost:8080/"
        },
        "id": "leIhzt3fNCs1",
        "outputId": "eeb90416-d139-4dde-e03e-b222ba585848"
      },
      "execution_count": null,
      "outputs": [
        {
          "output_type": "execute_result",
          "data": {
            "text/plain": [
              "EdgeView([(0, 2), (0, 1), (2, 1), (1, 3), (3, 5), (3, 4)])"
            ]
          },
          "metadata": {},
          "execution_count": 21
        }
      ]
    },
    {
      "cell_type": "code",
      "source": [
        "i=0\n",
        "for e in G.edges():\n",
        "  G.edges[e[0],e[1]]['weight']=weights[i]\n",
        "  i+=1\n",
        "  print(e,type(e),e[0],e[1])\n",
        "print(G.edges(data = True))"
      ],
      "metadata": {
        "id": "d2mcAsJMOKo8",
        "colab": {
          "base_uri": "https://localhost:8080/"
        },
        "outputId": "bdff41a7-c5e7-468d-9f3a-7fb956d8d63d"
      },
      "execution_count": null,
      "outputs": [
        {
          "output_type": "stream",
          "name": "stdout",
          "text": [
            "(0, 2) <class 'tuple'> 0 2\n",
            "(0, 1) <class 'tuple'> 0 1\n",
            "(2, 1) <class 'tuple'> 2 1\n",
            "(1, 3) <class 'tuple'> 1 3\n",
            "(3, 5) <class 'tuple'> 3 5\n",
            "(3, 4) <class 'tuple'> 3 4\n",
            "[(0, 2, {'weight': 5}), (0, 1, {'weight': 4}), (2, 1, {'weight': 6}), (1, 3, {'weight': 7}), (3, 5, {'weight': 8}), (3, 4, {'weight': 9})]\n"
          ]
        }
      ]
    },
    {
      "cell_type": "code",
      "source": [
        "#add names of nodes from the list node_names\n",
        "print(type(G.nodes()),G.nodes())\n",
        "G.nodes().data()\n",
        "i=0\n",
        "for node in G.nodes():\n",
        "  G.nodes[node]['city name']=node_names[i]\n",
        "  G.nodes[node]['region']=regions[i]\n",
        "  i+=1\n",
        "print(G.nodes().data())"
      ],
      "metadata": {
        "id": "mbVP_LkcRYJU",
        "colab": {
          "base_uri": "https://localhost:8080/"
        },
        "outputId": "40b532ff-307d-480d-d963-a0f6eddbfa08"
      },
      "execution_count": null,
      "outputs": [
        {
          "output_type": "stream",
          "name": "stdout",
          "text": [
            "<class 'networkx.classes.reportviews.NodeView'> [0, 2, 1, 3, 5, 4]\n",
            "[(0, {'city name': 'Blantyre', 'region': 'South'}), (2, {'city name': 'Lilongwe', 'region': 'Central'}), (1, {'city name': 'Nsanje', 'region': 'South'}), (3, {'city name': 'Kasungu', 'region': 'Central'}), (5, {'city name': 'Mzuzu', 'region': 'North'}), (4, {'city name': 'Karonga', 'region': 'North'})]\n"
          ]
        }
      ]
    },
    {
      "cell_type": "code",
      "source": [
        "print(type(G))\n",
        "print(G.nodes().data())\n",
        "print(G.neighbors(0))"
      ],
      "metadata": {
        "colab": {
          "base_uri": "https://localhost:8080/"
        },
        "id": "cmQNA4581hk5",
        "outputId": "5b6303ac-912e-43f1-ca33-dd09c007d37b"
      },
      "execution_count": null,
      "outputs": [
        {
          "output_type": "stream",
          "name": "stdout",
          "text": [
            "<class 'networkx.classes.graph.Graph'>\n",
            "[(0, {'city name': 'Blantyre', 'region': 'South'}), (2, {'city name': 'Lilongwe', 'region': 'Central'}), (1, {'city name': 'Nsanje', 'region': 'South'}), (3, {'city name': 'Kasungu', 'region': 'Central'}), (5, {'city name': 'Mzuzu', 'region': 'North'}), (4, {'city name': 'Karonga', 'region': 'North'})]\n",
            "<dict_keyiterator object at 0x7fb8fed9e9f0>\n"
          ]
        }
      ]
    },
    {
      "cell_type": "code",
      "source": [
        "L1 =[x for x in G.neighbors(1)]\n",
        "L2=[]\n",
        "for x in G.neighbors(1):\n",
        "  L2.append(x)\n",
        "print(L1)\n",
        "print(L2)"
      ],
      "metadata": {
        "colab": {
          "base_uri": "https://localhost:8080/"
        },
        "id": "nWo4SBkVUotO",
        "outputId": "f82c0508-7476-4236-8e4c-ac7fc60a130a"
      },
      "execution_count": null,
      "outputs": [
        {
          "output_type": "stream",
          "name": "stdout",
          "text": [
            "[2, 3, 0]\n",
            "[2, 3, 0]\n"
          ]
        }
      ]
    },
    {
      "cell_type": "code",
      "source": [
        "Visited=[] #list of nodes\n",
        "Q=[] #list of paths - tuple (A S)\n",
        "S='0'\n",
        "G = '5'\n",
        "Q.append([S]) #added the start position onto the queue\n",
        "print(Q)\n",
        "#c=Q.pop(0)[0]\n",
        "#print(c)"
      ],
      "metadata": {
        "colab": {
          "base_uri": "https://localhost:8080/"
        },
        "id": "ya4BDbPTWK23",
        "outputId": "a47d6ee0-87e0-43f8-8093-30ac349358a7"
      },
      "execution_count": null,
      "outputs": [
        {
          "output_type": "stream",
          "name": "stdout",
          "text": [
            "[['0']]\n"
          ]
        }
      ]
    },
    {
      "cell_type": "code",
      "source": [
        "#working with tuples\n",
        "t1=['0']\n",
        "#add '1' to the front of the list\n",
        "t1.insert(0,'1')\n",
        "print(t1)"
      ],
      "metadata": {
        "colab": {
          "base_uri": "https://localhost:8080/"
        },
        "id": "FAv4dqb70Hto",
        "outputId": "0a2ea390-f960-4cef-f856-12cfcf6af0b4"
      },
      "execution_count": null,
      "outputs": [
        {
          "output_type": "stream",
          "name": "stdout",
          "text": [
            "['1', '0']\n"
          ]
        }
      ]
    },
    {
      "cell_type": "code",
      "source": [
        "# Implementing Breadth First Search\n",
        "#initialise the Q and visited\n",
        "Q=[]\n",
        "Visited =[]\n",
        "#set the start and goal\n",
        "Start = 0\n",
        "Goal = 5\n",
        "#added the starting position on to the Q and Visited\n",
        "Q.append([Start])\n",
        "Visited.append(Start)\n",
        "#Start the main loop of the algorithm\n",
        "# In Q we store paths for example [2,0] from the start position\n",
        "while (len(Q)>0): # while Q is not empty\n",
        "  #check the first\n",
        "   element in Q if it is the goal\n",
        "  currentPath=Q.pop()\n",
        "  currentNode = currentPath[0] #this is a path in reverse with th elast element being the Start\n",
        "  #print(currentPath,currentNode)\n",
        "  #check if element is the goal then stop\n",
        "  if (currentNode == Goal):\n",
        "    print(\"Found a path to the goal:\", currentPath)\n",
        "    break\n",
        "  else:\n",
        "    Neighbours=G.neighbors(currentNode)\n",
        "    #print(\"The neighbours of \",currentNode, \" are \",Neighbours)\n",
        "    for n in Neighbours:\n",
        "      if n not in Visited:\n",
        "        #print(\"adding \",n, \" neighbour of \", currentNode)\n",
        "        initialPath = currentPath.copy()\n",
        "        initialPath.insert(0,n)\n",
        "        Q.append(initialPath)\n",
        "        #print(Q)\n",
        "        Visited.append(n)\n",
        "\n",
        "\n",
        "  #for all neighbours of current that are not Visited\n",
        "  #    add paths into Q"
      ],
      "metadata": {
        "id": "XJjRc2c7Y70y",
        "colab": {
          "base_uri": "https://localhost:8080/"
        },
        "outputId": "ff9cc5a5-b7ed-42a7-c3fd-c411c4b69d88"
      },
      "execution_count": null,
      "outputs": [
        {
          "output_type": "stream",
          "name": "stdout",
          "text": [
            "[0] 0\n",
            "adding  2  neighbour of  0\n",
            "[[2, 0]]\n",
            "adding  1  neighbour of  0\n",
            "[[2, 0], [1, 0]]\n",
            "[[2, 0], [1, 0]]\n",
            "[1, 0] 1\n",
            "adding  3  neighbour of  1\n",
            "[[2, 0], [3, 1, 0]]\n",
            "[[2, 0], [3, 1, 0]]\n",
            "[3, 1, 0] 3\n",
            "adding  5  neighbour of  3\n",
            "[[2, 0], [5, 3, 1, 0]]\n",
            "adding  4  neighbour of  3\n",
            "[[2, 0], [5, 3, 1, 0], [4, 3, 1, 0]]\n",
            "[[2, 0], [5, 3, 1, 0], [4, 3, 1, 0]]\n",
            "[4, 3, 1, 0] 4\n",
            "[[2, 0], [5, 3, 1, 0]]\n",
            "[5, 3, 1, 0] 5\n",
            "Found a path to the goal: [5, 3, 1, 0]\n"
          ]
        }
      ]
    },
    {
      "cell_type": "markdown",
      "source": [
        "TASK 1. Modify the algorithm above to implement Depth First Search\n",
        "\n",
        "TASK 2. Modify the algorithm above and use Collection deque class for Q instead.\n",
        "\n",
        "TASK 3. Modify the algorithm to implement Best First Search.\n",
        "\n",
        "TASK 4. Use a map of Malawi and select any region that contains (a minimum of 10) places and use Google maps to find distances between them. Then create a graph and run the algorithms above to find the shortest distances between two points.\n",
        "\n",
        "FOR ALL POINTS ABOVE WORK IN GROUPS (Same groups as for the Mini Expert System) -\n",
        "You should complete only what you manage. So work according to your abilities so that you can learn. Do not copy from someone else. This is a learning exercises.\n",
        "You will submit your work and documentation explaining what you did via a google form which I will send out soon.\n",
        "The due date for this is 26th April."
      ],
      "metadata": {
        "id": "3imrg_enTfb0"
      }
    }
  ]
}